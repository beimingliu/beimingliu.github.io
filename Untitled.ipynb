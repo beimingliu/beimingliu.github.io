{
 "cells": [
  {
   "cell_type": "code",
   "execution_count": 11,
   "metadata": {},
   "outputs": [],
   "source": [
    "def p(s):\n",
    "    if s:\n",
    "        rest = p(s[1:])\n",
    "        print(rest)\n",
    "        return rest + [[s[0]] + x for x in rest]\n",
    "    return [[]]"
   ]
  },
  {
   "cell_type": "code",
   "execution_count": 12,
   "metadata": {},
   "outputs": [
    {
     "name": "stdout",
     "output_type": "stream",
     "text": [
      "[[]]\n",
      "[[], [6]]\n",
      "[[], [6], [5], [5, 6]]\n",
      "[[], [6], [5], [5, 6], [4], [4, 6], [4, 5], [4, 5, 6]]\n",
      "[[], [6], [5], [5, 6], [4], [4, 6], [4, 5], [4, 5, 6], [3], [3, 6], [3, 5], [3, 5, 6], [3, 4], [3, 4, 6], [3, 4, 5], [3, 4, 5, 6]]\n",
      "[[], [6], [5], [5, 6], [4], [4, 6], [4, 5], [4, 5, 6], [3], [3, 6], [3, 5], [3, 5, 6], [3, 4], [3, 4, 6], [3, 4, 5], [3, 4, 5, 6], [2], [2, 6], [2, 5], [2, 5, 6], [2, 4], [2, 4, 6], [2, 4, 5], [2, 4, 5, 6], [2, 3], [2, 3, 6], [2, 3, 5], [2, 3, 5, 6], [2, 3, 4], [2, 3, 4, 6], [2, 3, 4, 5], [2, 3, 4, 5, 6]]\n"
     ]
    },
    {
     "data": {
      "text/plain": [
       "[[],\n",
       " [6],\n",
       " [5],\n",
       " [5, 6],\n",
       " [4],\n",
       " [4, 6],\n",
       " [4, 5],\n",
       " [4, 5, 6],\n",
       " [3],\n",
       " [3, 6],\n",
       " [3, 5],\n",
       " [3, 5, 6],\n",
       " [3, 4],\n",
       " [3, 4, 6],\n",
       " [3, 4, 5],\n",
       " [3, 4, 5, 6],\n",
       " [2],\n",
       " [2, 6],\n",
       " [2, 5],\n",
       " [2, 5, 6],\n",
       " [2, 4],\n",
       " [2, 4, 6],\n",
       " [2, 4, 5],\n",
       " [2, 4, 5, 6],\n",
       " [2, 3],\n",
       " [2, 3, 6],\n",
       " [2, 3, 5],\n",
       " [2, 3, 5, 6],\n",
       " [2, 3, 4],\n",
       " [2, 3, 4, 6],\n",
       " [2, 3, 4, 5],\n",
       " [2, 3, 4, 5, 6],\n",
       " [1],\n",
       " [1, 6],\n",
       " [1, 5],\n",
       " [1, 5, 6],\n",
       " [1, 4],\n",
       " [1, 4, 6],\n",
       " [1, 4, 5],\n",
       " [1, 4, 5, 6],\n",
       " [1, 3],\n",
       " [1, 3, 6],\n",
       " [1, 3, 5],\n",
       " [1, 3, 5, 6],\n",
       " [1, 3, 4],\n",
       " [1, 3, 4, 6],\n",
       " [1, 3, 4, 5],\n",
       " [1, 3, 4, 5, 6],\n",
       " [1, 2],\n",
       " [1, 2, 6],\n",
       " [1, 2, 5],\n",
       " [1, 2, 5, 6],\n",
       " [1, 2, 4],\n",
       " [1, 2, 4, 6],\n",
       " [1, 2, 4, 5],\n",
       " [1, 2, 4, 5, 6],\n",
       " [1, 2, 3],\n",
       " [1, 2, 3, 6],\n",
       " [1, 2, 3, 5],\n",
       " [1, 2, 3, 5, 6],\n",
       " [1, 2, 3, 4],\n",
       " [1, 2, 3, 4, 6],\n",
       " [1, 2, 3, 4, 5],\n",
       " [1, 2, 3, 4, 5, 6]]"
      ]
     },
     "execution_count": 12,
     "metadata": {},
     "output_type": "execute_result"
    }
   ],
   "source": [
    "p([1,2,3,4,5,6,])"
   ]
  },
  {
   "cell_type": "code",
   "execution_count": 16,
   "metadata": {},
   "outputs": [],
   "source": [
    "def powerset(seq):\n",
    "    \"\"\"\n",
    "    Returns all the subsets of this set. This is a generator.\n",
    "    \"\"\"\n",
    "\n",
    "    for item in powerset(seq[1:]):\n",
    "        yield [seq[0]]+item\n",
    "        yield item\n",
    "#     return [[]]"
   ]
  },
  {
   "cell_type": "code",
   "execution_count": 17,
   "metadata": {},
   "outputs": [
    {
     "ename": "RecursionError",
     "evalue": "maximum recursion depth exceeded",
     "output_type": "error",
     "traceback": [
      "\u001b[0;31m---------------------------------------------------------------------------\u001b[0m",
      "\u001b[0;31mRecursionError\u001b[0m                            Traceback (most recent call last)",
      "\u001b[0;32m<ipython-input-17-c20a2dc4bb3f>\u001b[0m in \u001b[0;36m<module>\u001b[0;34m()\u001b[0m\n\u001b[0;32m----> 1\u001b[0;31m \u001b[0mlist\u001b[0m\u001b[0;34m(\u001b[0m\u001b[0mpowerset\u001b[0m\u001b[0;34m(\u001b[0m\u001b[0;34m[\u001b[0m\u001b[0;36m1\u001b[0m\u001b[0;34m,\u001b[0m\u001b[0;36m2\u001b[0m\u001b[0;34m,\u001b[0m\u001b[0;36m3\u001b[0m\u001b[0;34m,\u001b[0m\u001b[0;36m4\u001b[0m\u001b[0;34m]\u001b[0m\u001b[0;34m)\u001b[0m\u001b[0;34m)\u001b[0m\u001b[0;34m\u001b[0m\u001b[0m\n\u001b[0m",
      "\u001b[0;32m<ipython-input-16-dfeb54592046>\u001b[0m in \u001b[0;36mpowerset\u001b[0;34m(seq)\u001b[0m\n\u001b[1;32m      4\u001b[0m     \"\"\"\n\u001b[1;32m      5\u001b[0m \u001b[0;34m\u001b[0m\u001b[0m\n\u001b[0;32m----> 6\u001b[0;31m     \u001b[0;32mfor\u001b[0m \u001b[0mitem\u001b[0m \u001b[0;32min\u001b[0m \u001b[0mpowerset\u001b[0m\u001b[0;34m(\u001b[0m\u001b[0mseq\u001b[0m\u001b[0;34m[\u001b[0m\u001b[0;36m1\u001b[0m\u001b[0;34m:\u001b[0m\u001b[0;34m]\u001b[0m\u001b[0;34m)\u001b[0m\u001b[0;34m:\u001b[0m\u001b[0;34m\u001b[0m\u001b[0m\n\u001b[0m\u001b[1;32m      7\u001b[0m         \u001b[0;32myield\u001b[0m \u001b[0;34m[\u001b[0m\u001b[0mseq\u001b[0m\u001b[0;34m[\u001b[0m\u001b[0;36m0\u001b[0m\u001b[0;34m]\u001b[0m\u001b[0;34m]\u001b[0m\u001b[0;34m+\u001b[0m\u001b[0mitem\u001b[0m\u001b[0;34m\u001b[0m\u001b[0m\n\u001b[1;32m      8\u001b[0m         \u001b[0;32myield\u001b[0m \u001b[0mitem\u001b[0m\u001b[0;34m\u001b[0m\u001b[0m\n",
      "... last 1 frames repeated, from the frame below ...\n",
      "\u001b[0;32m<ipython-input-16-dfeb54592046>\u001b[0m in \u001b[0;36mpowerset\u001b[0;34m(seq)\u001b[0m\n\u001b[1;32m      4\u001b[0m     \"\"\"\n\u001b[1;32m      5\u001b[0m \u001b[0;34m\u001b[0m\u001b[0m\n\u001b[0;32m----> 6\u001b[0;31m     \u001b[0;32mfor\u001b[0m \u001b[0mitem\u001b[0m \u001b[0;32min\u001b[0m \u001b[0mpowerset\u001b[0m\u001b[0;34m(\u001b[0m\u001b[0mseq\u001b[0m\u001b[0;34m[\u001b[0m\u001b[0;36m1\u001b[0m\u001b[0;34m:\u001b[0m\u001b[0;34m]\u001b[0m\u001b[0;34m)\u001b[0m\u001b[0;34m:\u001b[0m\u001b[0;34m\u001b[0m\u001b[0m\n\u001b[0m\u001b[1;32m      7\u001b[0m         \u001b[0;32myield\u001b[0m \u001b[0;34m[\u001b[0m\u001b[0mseq\u001b[0m\u001b[0;34m[\u001b[0m\u001b[0;36m0\u001b[0m\u001b[0;34m]\u001b[0m\u001b[0;34m]\u001b[0m\u001b[0;34m+\u001b[0m\u001b[0mitem\u001b[0m\u001b[0;34m\u001b[0m\u001b[0m\n\u001b[1;32m      8\u001b[0m         \u001b[0;32myield\u001b[0m \u001b[0mitem\u001b[0m\u001b[0;34m\u001b[0m\u001b[0m\n",
      "\u001b[0;31mRecursionError\u001b[0m: maximum recursion depth exceeded"
     ]
    }
   ],
   "source": [
    "list(powerset([1,2,3,4]))"
   ]
  },
  {
   "cell_type": "code",
   "execution_count": null,
   "metadata": {},
   "outputs": [],
   "source": []
  }
 ],
 "metadata": {
  "kernelspec": {
   "display_name": "Python 3",
   "language": "python",
   "name": "python3"
  },
  "language_info": {
   "codemirror_mode": {
    "name": "ipython",
    "version": 3
   },
   "file_extension": ".py",
   "mimetype": "text/x-python",
   "name": "python",
   "nbconvert_exporter": "python",
   "pygments_lexer": "ipython3",
   "version": "3.6.4"
  }
 },
 "nbformat": 4,
 "nbformat_minor": 2
}
